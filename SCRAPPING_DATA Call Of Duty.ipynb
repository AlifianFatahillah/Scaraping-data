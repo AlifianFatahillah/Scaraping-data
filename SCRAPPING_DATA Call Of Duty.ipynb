{
  "cells": [
    {
      "cell_type": "code",
      "execution_count": 1,
      "metadata": {
        "id": "M_Z1-SgX9aRA"
      },
      "outputs": [],
      "source": [
        "from google_play_scraper import app\n",
        "\n",
        "import pandas as pd\n",
        "\n",
        "import numpy as np"
      ]
    },
    {
      "cell_type": "code",
      "execution_count": 8,
      "metadata": {
        "id": "JW2U_I52Gg9n"
      },
      "outputs": [],
      "source": [
        "from google_play_scraper import Sort, reviews\n",
        "\n",
        "result, continuation_token = reviews(\n",
        "    'com.garena.game.codm',\n",
        "    lang='id',\n",
        "    country='id',\n",
        "    sort=Sort.MOST_RELEVANT,\n",
        "    count=5000,\n",
        "    filter_score_with=None\n",
        ")"
      ]
    },
    {
      "cell_type": "code",
      "execution_count": 1,
      "metadata": {
        "colab": {
          "base_uri": "https://localhost:8080/",
          "height": 774
        },
        "id": "gfs0j3xh9sJi",
        "outputId": "ef37c0c8-4700-4385-cad6-06cc18f66d60"
      },
      "outputs": [
        {
          "ename": "NameError",
          "evalue": "name 'pd' is not defined",
          "output_type": "error",
          "traceback": [
            "\u001b[1;31m---------------------------------------------------------------------------\u001b[0m",
            "\u001b[1;31mNameError\u001b[0m                                 Traceback (most recent call last)",
            "Cell \u001b[1;32mIn[1], line 1\u001b[0m\n\u001b[1;32m----> 1\u001b[0m df_COD \u001b[39m=\u001b[39m pd\u001b[39m.\u001b[39mDataFrame(np\u001b[39m.\u001b[39marray(result),columns\u001b[39m=\u001b[39m[\u001b[39m'\u001b[39m\u001b[39mreview\u001b[39m\u001b[39m'\u001b[39m])\n\u001b[0;32m      3\u001b[0m df_COD \u001b[39m=\u001b[39m df_COD\u001b[39m.\u001b[39mjoin(pd\u001b[39m.\u001b[39mDataFrame(df_COD\u001b[39m.\u001b[39mpop(\u001b[39m'\u001b[39m\u001b[39mreview\u001b[39m\u001b[39m'\u001b[39m)\u001b[39m.\u001b[39mtolist()))\n\u001b[0;32m      5\u001b[0m df_COD\n",
            "\u001b[1;31mNameError\u001b[0m: name 'pd' is not defined"
          ]
        }
      ],
      "source": [
        "df_COD = pd.DataFrame(np.array(result),columns=['review'])\n",
        "\n",
        "df_COD = df_COD.join(pd.DataFrame(df_COD.pop('review').tolist()))\n",
        "\n",
        "df_COD"
      ]
    },
    {
      "cell_type": "code",
      "execution_count": 9,
      "metadata": {
        "colab": {
          "base_uri": "https://localhost:8080/",
          "height": 206
        },
        "id": "r_-dIRnF9_fR",
        "outputId": "5a3cbbb8-5a54-4e99-a489-7410a482abaf"
      },
      "outputs": [
        {
          "data": {
            "text/html": [
              "<div>\n",
              "<style scoped>\n",
              "    .dataframe tbody tr th:only-of-type {\n",
              "        vertical-align: middle;\n",
              "    }\n",
              "\n",
              "    .dataframe tbody tr th {\n",
              "        vertical-align: top;\n",
              "    }\n",
              "\n",
              "    .dataframe thead th {\n",
              "        text-align: right;\n",
              "    }\n",
              "</style>\n",
              "<table border=\"1\" class=\"dataframe\">\n",
              "  <thead>\n",
              "    <tr style=\"text-align: right;\">\n",
              "      <th></th>\n",
              "      <th>userName</th>\n",
              "      <th>score</th>\n",
              "      <th>at</th>\n",
              "      <th>content</th>\n",
              "    </tr>\n",
              "  </thead>\n",
              "  <tbody>\n",
              "    <tr>\n",
              "      <th>0</th>\n",
              "      <td>Nathan william</td>\n",
              "      <td>4</td>\n",
              "      <td>2023-05-31 16:57:07</td>\n",
              "      <td>Sekarang ada fitur stop download rss dan saya ...</td>\n",
              "    </tr>\n",
              "    <tr>\n",
              "      <th>1</th>\n",
              "      <td>Ramadeya Pandya</td>\n",
              "      <td>3</td>\n",
              "      <td>2023-06-17 21:51:24</td>\n",
              "      <td>Dalam gameplay bagus, gerakan animasi bagus, c...</td>\n",
              "    </tr>\n",
              "    <tr>\n",
              "      <th>2</th>\n",
              "      <td>Ricardo Razaq Alghivieri</td>\n",
              "      <td>4</td>\n",
              "      <td>2023-05-26 21:10:21</td>\n",
              "      <td>Dari segi gameplay dan grafis sudah sangat bag...</td>\n",
              "    </tr>\n",
              "    <tr>\n",
              "      <th>3</th>\n",
              "      <td>via laviyaa</td>\n",
              "      <td>1</td>\n",
              "      <td>2023-06-07 17:01:21</td>\n",
              "      <td>setelah diupdate malah lebih parah bug-nya, ap...</td>\n",
              "    </tr>\n",
              "    <tr>\n",
              "      <th>4</th>\n",
              "      <td>My Name Is Adexta</td>\n",
              "      <td>4</td>\n",
              "      <td>2023-06-02 09:35:24</td>\n",
              "      <td>kadang frame rate kalo ada musuh tiba-tiba 0 f...</td>\n",
              "    </tr>\n",
              "  </tbody>\n",
              "</table>\n",
              "</div>"
            ],
            "text/plain": [
              "                   userName  score                  at  \\\n",
              "0            Nathan william      4 2023-05-31 16:57:07   \n",
              "1           Ramadeya Pandya      3 2023-06-17 21:51:24   \n",
              "2  Ricardo Razaq Alghivieri      4 2023-05-26 21:10:21   \n",
              "3               via laviyaa      1 2023-06-07 17:01:21   \n",
              "4         My Name Is Adexta      4 2023-06-02 09:35:24   \n",
              "\n",
              "                                             content  \n",
              "0  Sekarang ada fitur stop download rss dan saya ...  \n",
              "1  Dalam gameplay bagus, gerakan animasi bagus, c...  \n",
              "2  Dari segi gameplay dan grafis sudah sangat bag...  \n",
              "3  setelah diupdate malah lebih parah bug-nya, ap...  \n",
              "4  kadang frame rate kalo ada musuh tiba-tiba 0 f...  "
            ]
          },
          "execution_count": 9,
          "metadata": {},
          "output_type": "execute_result"
        }
      ],
      "source": [
        "df_COD[['userName', 'score','at', 'content']].head() "
      ]
    },
    {
      "cell_type": "code",
      "execution_count": 11,
      "metadata": {
        "colab": {
          "base_uri": "https://localhost:8080/",
          "height": 206
        },
        "id": "aRdjpH5H-ElE",
        "outputId": "381bd8ce-6066-485f-b5a7-7f84e251d63b"
      },
      "outputs": [
        {
          "data": {
            "text/html": [
              "<div>\n",
              "<style scoped>\n",
              "    .dataframe tbody tr th:only-of-type {\n",
              "        vertical-align: middle;\n",
              "    }\n",
              "\n",
              "    .dataframe tbody tr th {\n",
              "        vertical-align: top;\n",
              "    }\n",
              "\n",
              "    .dataframe thead th {\n",
              "        text-align: right;\n",
              "    }\n",
              "</style>\n",
              "<table border=\"1\" class=\"dataframe\">\n",
              "  <thead>\n",
              "    <tr style=\"text-align: right;\">\n",
              "      <th></th>\n",
              "      <th>userName</th>\n",
              "      <th>score</th>\n",
              "      <th>at</th>\n",
              "      <th>content</th>\n",
              "    </tr>\n",
              "  </thead>\n",
              "  <tbody>\n",
              "    <tr>\n",
              "      <th>192</th>\n",
              "      <td>Rezky kurnia</td>\n",
              "      <td>1</td>\n",
              "      <td>2023-06-21 19:36:14</td>\n",
              "      <td>Terlalu sangat banyakan update gak jelasnya pe...</td>\n",
              "    </tr>\n",
              "    <tr>\n",
              "      <th>33</th>\n",
              "      <td>Nana Prasetya</td>\n",
              "      <td>5</td>\n",
              "      <td>2023-06-21 19:26:23</td>\n",
              "      <td>Game ini salah satu gem favorit ku gemnya kere...</td>\n",
              "    </tr>\n",
              "    <tr>\n",
              "      <th>2764</th>\n",
              "      <td>Geraldo Wowiling</td>\n",
              "      <td>3</td>\n",
              "      <td>2023-06-21 18:55:13</td>\n",
              "      <td>Gamenya udh bagus sebenarnya semuanya bagus \"K...</td>\n",
              "    </tr>\n",
              "    <tr>\n",
              "      <th>2143</th>\n",
              "      <td>Liya Triana</td>\n",
              "      <td>2</td>\n",
              "      <td>2023-06-21 16:17:17</td>\n",
              "      <td>Nyari musuh tolong yang sepantar skill nya</td>\n",
              "    </tr>\n",
              "    <tr>\n",
              "      <th>437</th>\n",
              "      <td>Fendinata Rahman Hakim</td>\n",
              "      <td>1</td>\n",
              "      <td>2023-06-21 16:07:48</td>\n",
              "      <td>Pemilihan tim tidak sesuai sekil dibawah saya ...</td>\n",
              "    </tr>\n",
              "  </tbody>\n",
              "</table>\n",
              "</div>"
            ],
            "text/plain": [
              "                    userName  score                  at  \\\n",
              "192             Rezky kurnia      1 2023-06-21 19:36:14   \n",
              "33             Nana Prasetya      5 2023-06-21 19:26:23   \n",
              "2764        Geraldo Wowiling      3 2023-06-21 18:55:13   \n",
              "2143             Liya Triana      2 2023-06-21 16:17:17   \n",
              "437   Fendinata Rahman Hakim      1 2023-06-21 16:07:48   \n",
              "\n",
              "                                                content  \n",
              "192   Terlalu sangat banyakan update gak jelasnya pe...  \n",
              "33    Game ini salah satu gem favorit ku gemnya kere...  \n",
              "2764  Gamenya udh bagus sebenarnya semuanya bagus \"K...  \n",
              "2143         Nyari musuh tolong yang sepantar skill nya  \n",
              "437   Pemilihan tim tidak sesuai sekil dibawah saya ...  "
            ]
          },
          "execution_count": 11,
          "metadata": {},
          "output_type": "execute_result"
        }
      ],
      "source": [
        "new_df = df_COD[['userName', 'score','at', 'content']]\n",
        "sorted_df = new_df.sort_values(by='at', ascending=False)\n",
        "sorted_df.head()"
      ]
    },
    {
      "cell_type": "code",
      "execution_count": 13,
      "metadata": {
        "id": "o1ir87MQ-MxN"
      },
      "outputs": [],
      "source": [
        "my_df = sorted_df[['userName', 'score','at', 'content']] "
      ]
    },
    {
      "cell_type": "code",
      "execution_count": 14,
      "metadata": {
        "colab": {
          "base_uri": "https://localhost:8080/",
          "height": 206
        },
        "id": "vwN7bwVd-SnI",
        "outputId": "227c5203-b0d9-495a-c537-7c5ac5bca06a"
      },
      "outputs": [
        {
          "data": {
            "text/html": [
              "<div>\n",
              "<style scoped>\n",
              "    .dataframe tbody tr th:only-of-type {\n",
              "        vertical-align: middle;\n",
              "    }\n",
              "\n",
              "    .dataframe tbody tr th {\n",
              "        vertical-align: top;\n",
              "    }\n",
              "\n",
              "    .dataframe thead th {\n",
              "        text-align: right;\n",
              "    }\n",
              "</style>\n",
              "<table border=\"1\" class=\"dataframe\">\n",
              "  <thead>\n",
              "    <tr style=\"text-align: right;\">\n",
              "      <th></th>\n",
              "      <th>userName</th>\n",
              "      <th>score</th>\n",
              "      <th>at</th>\n",
              "      <th>content</th>\n",
              "    </tr>\n",
              "  </thead>\n",
              "  <tbody>\n",
              "    <tr>\n",
              "      <th>192</th>\n",
              "      <td>Rezky kurnia</td>\n",
              "      <td>1</td>\n",
              "      <td>2023-06-21 19:36:14</td>\n",
              "      <td>Terlalu sangat banyakan update gak jelasnya pe...</td>\n",
              "    </tr>\n",
              "    <tr>\n",
              "      <th>33</th>\n",
              "      <td>Nana Prasetya</td>\n",
              "      <td>5</td>\n",
              "      <td>2023-06-21 19:26:23</td>\n",
              "      <td>Game ini salah satu gem favorit ku gemnya kere...</td>\n",
              "    </tr>\n",
              "    <tr>\n",
              "      <th>2764</th>\n",
              "      <td>Geraldo Wowiling</td>\n",
              "      <td>3</td>\n",
              "      <td>2023-06-21 18:55:13</td>\n",
              "      <td>Gamenya udh bagus sebenarnya semuanya bagus \"K...</td>\n",
              "    </tr>\n",
              "    <tr>\n",
              "      <th>2143</th>\n",
              "      <td>Liya Triana</td>\n",
              "      <td>2</td>\n",
              "      <td>2023-06-21 16:17:17</td>\n",
              "      <td>Nyari musuh tolong yang sepantar skill nya</td>\n",
              "    </tr>\n",
              "    <tr>\n",
              "      <th>437</th>\n",
              "      <td>Fendinata Rahman Hakim</td>\n",
              "      <td>1</td>\n",
              "      <td>2023-06-21 16:07:48</td>\n",
              "      <td>Pemilihan tim tidak sesuai sekil dibawah saya ...</td>\n",
              "    </tr>\n",
              "  </tbody>\n",
              "</table>\n",
              "</div>"
            ],
            "text/plain": [
              "                    userName  score                  at  \\\n",
              "192             Rezky kurnia      1 2023-06-21 19:36:14   \n",
              "33             Nana Prasetya      5 2023-06-21 19:26:23   \n",
              "2764        Geraldo Wowiling      3 2023-06-21 18:55:13   \n",
              "2143             Liya Triana      2 2023-06-21 16:17:17   \n",
              "437   Fendinata Rahman Hakim      1 2023-06-21 16:07:48   \n",
              "\n",
              "                                                content  \n",
              "192   Terlalu sangat banyakan update gak jelasnya pe...  \n",
              "33    Game ini salah satu gem favorit ku gemnya kere...  \n",
              "2764  Gamenya udh bagus sebenarnya semuanya bagus \"K...  \n",
              "2143         Nyari musuh tolong yang sepantar skill nya  \n",
              "437   Pemilihan tim tidak sesuai sekil dibawah saya ...  "
            ]
          },
          "execution_count": 14,
          "metadata": {},
          "output_type": "execute_result"
        }
      ],
      "source": [
        "my_df.head()"
      ]
    }
  ],
  "metadata": {
    "colab": {
      "provenance": []
    },
    "kernelspec": {
      "display_name": "Python 3",
      "name": "python3"
    },
    "language_info": {
      "codemirror_mode": {
        "name": "ipython",
        "version": 3
      },
      "file_extension": ".py",
      "mimetype": "text/x-python",
      "name": "python",
      "nbconvert_exporter": "python",
      "pygments_lexer": "ipython3",
      "version": "3.11.1"
    }
  },
  "nbformat": 4,
  "nbformat_minor": 0
}
