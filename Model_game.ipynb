{
 "cells": [
  {
   "cell_type": "code",
   "execution_count": 1,
   "metadata": {},
   "outputs": [],
   "source": [
    "import pandas as pd\n",
    "import numpy as np"
   ]
  },
  {
   "cell_type": "code",
   "execution_count": 2,
   "metadata": {},
   "outputs": [],
   "source": [
    "df_COD = pd.read_csv(r'C:\\Users\\Asani\\Python\\.vscode\\Tugas\\Data_COD.csv')\n",
    "df_FF = pd.read_csv(r'C:\\Users\\Asani\\Python\\.vscode\\Tugas\\Data_FF.csv')\n",
    "df_PUBG = pd.read_csv(r'C:\\Users\\Asani\\Python\\.vscode\\Tugas\\Data_PUBG.csv')"
   ]
  },
  {
   "cell_type": "code",
   "execution_count": 3,
   "metadata": {},
   "outputs": [],
   "source": [
    "# Menggabungkan ketiga dataset dalam satu list\n",
    "datasets = [df_COD, df_FF, df_PUBG]\n",
    "\n",
    "# Proses untuk setiap dataset\n",
    "for df in datasets:\n",
    "    df[\"waktu\"] = pd.to_datetime(df[\"waktu\"])\n",
    "    df[\"tahun\"] = df[\"waktu\"].dt.year\n",
    "    df[\"bulan\"] = df[\"waktu\"].dt.month"
   ]
  },
  {
   "cell_type": "code",
   "execution_count": 4,
   "metadata": {},
   "outputs": [],
   "source": [
    "# Menentukan ambang batas untuk mengkategorikan sentimen\n",
    "threshold_positif = 4\n",
    "threshold_negatif = 2\n",
    "threshold_netral = 3"
   ]
  },
  {
   "attachments": {},
   "cell_type": "markdown",
   "metadata": {},
   "source": [
    "## Mendefinisikan kolom Sentimen"
   ]
  },
  {
   "cell_type": "code",
   "execution_count": 5,
   "metadata": {},
   "outputs": [
    {
     "data": {
      "text/html": [
       "<div>\n",
       "<style scoped>\n",
       "    .dataframe tbody tr th:only-of-type {\n",
       "        vertical-align: middle;\n",
       "    }\n",
       "\n",
       "    .dataframe tbody tr th {\n",
       "        vertical-align: top;\n",
       "    }\n",
       "\n",
       "    .dataframe thead th {\n",
       "        text-align: right;\n",
       "    }\n",
       "</style>\n",
       "<table border=\"1\" class=\"dataframe\">\n",
       "  <thead>\n",
       "    <tr style=\"text-align: right;\">\n",
       "      <th></th>\n",
       "      <th>tahun</th>\n",
       "      <th>bulan</th>\n",
       "      <th>Komentar</th>\n",
       "      <th>Rating</th>\n",
       "      <th>Sentimen</th>\n",
       "    </tr>\n",
       "  </thead>\n",
       "  <tbody>\n",
       "    <tr>\n",
       "      <th>0</th>\n",
       "      <td>2023</td>\n",
       "      <td>6</td>\n",
       "      <td>terlalu sangat banyak update tidak jelas simpa...</td>\n",
       "      <td>1</td>\n",
       "      <td>Negatif</td>\n",
       "    </tr>\n",
       "    <tr>\n",
       "      <th>1</th>\n",
       "      <td>2023</td>\n",
       "      <td>6</td>\n",
       "      <td>permainan salah satu game favorit saya game ny...</td>\n",
       "      <td>5</td>\n",
       "      <td>Positif</td>\n",
       "    </tr>\n",
       "    <tr>\n",
       "      <th>2</th>\n",
       "      <td>2023</td>\n",
       "      <td>6</td>\n",
       "      <td>gamenya sudah bagus sesungguh semua bagus kecu...</td>\n",
       "      <td>3</td>\n",
       "      <td>Netral</td>\n",
       "    </tr>\n",
       "    <tr>\n",
       "      <th>3</th>\n",
       "      <td>2023</td>\n",
       "      <td>6</td>\n",
       "      <td>mencari musuh tolong yang pintar kemampuan nya</td>\n",
       "      <td>2</td>\n",
       "      <td>Negatif</td>\n",
       "    </tr>\n",
       "    <tr>\n",
       "      <th>4</th>\n",
       "      <td>2023</td>\n",
       "      <td>6</td>\n",
       "      <td>pilih tim sesuai skill bawah saya dan lawan se...</td>\n",
       "      <td>1</td>\n",
       "      <td>Negatif</td>\n",
       "    </tr>\n",
       "    <tr>\n",
       "      <th>...</th>\n",
       "      <td>...</td>\n",
       "      <td>...</td>\n",
       "      <td>...</td>\n",
       "      <td>...</td>\n",
       "      <td>...</td>\n",
       "    </tr>\n",
       "    <tr>\n",
       "      <th>4995</th>\n",
       "      <td>2019</td>\n",
       "      <td>9</td>\n",
       "      <td>bagus ada beberapa masuk contoh damage nya kak...</td>\n",
       "      <td>4</td>\n",
       "      <td>Positif</td>\n",
       "    </tr>\n",
       "    <tr>\n",
       "      <th>4996</th>\n",
       "      <td>2019</td>\n",
       "      <td>9</td>\n",
       "      <td>good permainan tingkat kan lagi senjata lebih ...</td>\n",
       "      <td>4</td>\n",
       "      <td>Positif</td>\n",
       "    </tr>\n",
       "    <tr>\n",
       "      <th>4997</th>\n",
       "      <td>2019</td>\n",
       "      <td>9</td>\n",
       "      <td>orang bodoh yang asal rate kecil mereka tidak ...</td>\n",
       "      <td>5</td>\n",
       "      <td>Positif</td>\n",
       "    </tr>\n",
       "    <tr>\n",
       "      <th>4998</th>\n",
       "      <td>2019</td>\n",
       "      <td>9</td>\n",
       "      <td>untuk dari permainan garena sendiri sudah bagu...</td>\n",
       "      <td>5</td>\n",
       "      <td>Positif</td>\n",
       "    </tr>\n",
       "    <tr>\n",
       "      <th>4999</th>\n",
       "      <td>2019</td>\n",
       "      <td>9</td>\n",
       "      <td>kontrol kurang nyaman dengan sensitifitas terl...</td>\n",
       "      <td>3</td>\n",
       "      <td>Netral</td>\n",
       "    </tr>\n",
       "  </tbody>\n",
       "</table>\n",
       "<p>5000 rows × 5 columns</p>\n",
       "</div>"
      ],
      "text/plain": [
       "      tahun  bulan                                           Komentar  Rating  \\\n",
       "0      2023      6  terlalu sangat banyak update tidak jelas simpa...       1   \n",
       "1      2023      6  permainan salah satu game favorit saya game ny...       5   \n",
       "2      2023      6  gamenya sudah bagus sesungguh semua bagus kecu...       3   \n",
       "3      2023      6     mencari musuh tolong yang pintar kemampuan nya       2   \n",
       "4      2023      6  pilih tim sesuai skill bawah saya dan lawan se...       1   \n",
       "...     ...    ...                                                ...     ...   \n",
       "4995   2019      9  bagus ada beberapa masuk contoh damage nya kak...       4   \n",
       "4996   2019      9  good permainan tingkat kan lagi senjata lebih ...       4   \n",
       "4997   2019      9  orang bodoh yang asal rate kecil mereka tidak ...       5   \n",
       "4998   2019      9  untuk dari permainan garena sendiri sudah bagu...       5   \n",
       "4999   2019      9  kontrol kurang nyaman dengan sensitifitas terl...       3   \n",
       "\n",
       "     Sentimen  \n",
       "0     Negatif  \n",
       "1     Positif  \n",
       "2      Netral  \n",
       "3     Negatif  \n",
       "4     Negatif  \n",
       "...       ...  \n",
       "4995  Positif  \n",
       "4996  Positif  \n",
       "4997  Positif  \n",
       "4998  Positif  \n",
       "4999   Netral  \n",
       "\n",
       "[5000 rows x 5 columns]"
      ]
     },
     "execution_count": 5,
     "metadata": {},
     "output_type": "execute_result"
    }
   ],
   "source": [
    "# Menerapkan analisis sentimen berdasarkan skor\n",
    "df_COD['Sentimen'] = df_COD['Rating'].apply(lambda x: 'Positif' if x >= threshold_positif else 'Negatif' if x <= threshold_negatif else 'Netral')\n",
    "\n",
    "# Menyimpan hasil analisis sentimen ke dalam data frame\n",
    "df_COD = df_COD[['tahun','bulan', 'Komentar','Rating', 'Sentimen']]\n",
    "\n",
    "df_COD"
   ]
  },
  {
   "attachments": {},
   "cell_type": "markdown",
   "metadata": {},
   "source": [
    "## Membuat prediksi sentimen berdasarkan rating yang diberikan "
   ]
  },
  {
   "cell_type": "code",
   "execution_count": 6,
   "metadata": {},
   "outputs": [],
   "source": [
    "from sklearn.preprocessing import StandardScaler, LabelEncoder\n",
    "from sklearn.model_selection import train_test_split\n",
    "from sklearn.pipeline import Pipeline\n",
    "from sklearn.compose import ColumnTransformer\n",
    "from sklearn.metrics import accuracy_score\n",
    "\n",
    "from sklearn import svm\n",
    "from sklearn.ensemble import RandomForestClassifier\n",
    "from sklearn.neighbors import KNeighborsClassifier\n",
    "from sklearn.model_selection import GridSearchCV\n",
    "from jcopml.tuning import grid_search_params as gsp"
   ]
  },
  {
   "attachments": {},
   "cell_type": "markdown",
   "metadata": {},
   "source": [
    "## Data set Call of Duty"
   ]
  },
  {
   "cell_type": "code",
   "execution_count": 7,
   "metadata": {},
   "outputs": [
    {
     "data": {
      "text/plain": [
       "((4000, 3), (1000, 3), (4000,), (1000,))"
      ]
     },
     "execution_count": 7,
     "metadata": {},
     "output_type": "execute_result"
    }
   ],
   "source": [
    "X_COD = df_COD[['tahun','bulan','Rating']]\n",
    "y_COD = df_COD.Sentimen\n",
    "\n",
    "X_train, X_test, y_train, y_test = train_test_split(X_COD, y_COD, test_size=0.2, random_state=42)\n",
    "X_train.shape, X_test.shape, y_train.shape, y_test.shape"
   ]
  },
  {
   "attachments": {},
   "cell_type": "markdown",
   "metadata": {},
   "source": [
    "## Model Random Forres"
   ]
  },
  {
   "cell_type": "code",
   "execution_count": 8,
   "metadata": {},
   "outputs": [
    {
     "name": "stdout",
     "output_type": "stream",
     "text": [
      "Accuracy: 100.0 %\n"
     ]
    }
   ],
   "source": [
    "# Membuat Model\n",
    "model = RandomForestClassifier(n_estimators=200, random_state=42)\n",
    "model.fit(X_train, y_train)\n",
    "\n",
    "# Memuat prediksi dari model\n",
    "y_RFC_pred = model.predict(X_test)\n",
    "\n",
    "# Menghitung akurasi model\n",
    "accuracy = accuracy_score(y_test, y_RFC_pred)\n",
    "print('Accuracy:', accuracy*100,\"%\")"
   ]
  },
  {
   "attachments": {},
   "cell_type": "markdown",
   "metadata": {},
   "source": [
    "## Model KNN"
   ]
  },
  {
   "cell_type": "code",
   "execution_count": 9,
   "metadata": {},
   "outputs": [
    {
     "name": "stdout",
     "output_type": "stream",
     "text": [
      "Accuracy: 99.9 %\n"
     ]
    }
   ],
   "source": [
    "# membuat model\n",
    "Model_KNN = KNeighborsClassifier(n_neighbors=3)\n",
    "\n",
    "#Melatih Model\n",
    "Model_KNN.fit(X_train, y_train)\n",
    "\n",
    "# Melakukan Uji pada data test\n",
    "y_KNN_predict = Model_KNN.predict(X_test)\n",
    "\n",
    "# Menhitung akurasi model\n",
    "accuracy_KNN = accuracy_score(y_test, y_KNN_predict)\n",
    "print('Accuracy:', accuracy_KNN*100, \"%\")"
   ]
  },
  {
   "attachments": {},
   "cell_type": "markdown",
   "metadata": {},
   "source": [
    "## Model SVM"
   ]
  },
  {
   "cell_type": "code",
   "execution_count": 12,
   "metadata": {},
   "outputs": [],
   "source": [
    "from sklearn.preprocessing import LabelEncoder\n",
    "\n",
    "# Menggunakan LabelEncoder\n",
    "le = LabelEncoder()\n",
    "df_COD= df_COD.copy()\n",
    "df_COD['Sentimen'] = le.fit_transform(df_COD['Sentimen'])\n"
   ]
  },
  {
   "cell_type": "code",
   "execution_count": 13,
   "metadata": {},
   "outputs": [
    {
     "name": "stdout",
     "output_type": "stream",
     "text": [
      "Akurasi: 100.0 %\n"
     ]
    }
   ],
   "source": [
    "# membuat model\n",
    "model_SVM = svm.SVC(kernel='linear')\n",
    "\n",
    "#Melatih Model\n",
    "model_SVM.fit(X_train, y_train)\n",
    "\n",
    "#Memprediksi label untuk test set\n",
    "y_pred = model_SVM.predict(X_test)\n",
    "\n",
    "# Menghitung akurasi prediksi\n",
    "accuracy = accuracy_score(y_test, y_pred)\n",
    "print(\"Akurasi:\", accuracy*100,'%')"
   ]
  },
  {
   "attachments": {},
   "cell_type": "markdown",
   "metadata": {},
   "source": [
    "# Menganalisis Sentimen berdasarkan Komentar dari user"
   ]
  },
  {
   "attachments": {},
   "cell_type": "markdown",
   "metadata": {},
   "source": [
    "## Dataset Free Fire"
   ]
  },
  {
   "cell_type": "code",
   "execution_count": 14,
   "metadata": {},
   "outputs": [
    {
     "data": {
      "text/html": [
       "<div>\n",
       "<style scoped>\n",
       "    .dataframe tbody tr th:only-of-type {\n",
       "        vertical-align: middle;\n",
       "    }\n",
       "\n",
       "    .dataframe tbody tr th {\n",
       "        vertical-align: top;\n",
       "    }\n",
       "\n",
       "    .dataframe thead th {\n",
       "        text-align: right;\n",
       "    }\n",
       "</style>\n",
       "<table border=\"1\" class=\"dataframe\">\n",
       "  <thead>\n",
       "    <tr style=\"text-align: right;\">\n",
       "      <th></th>\n",
       "      <th>tahun</th>\n",
       "      <th>bulan</th>\n",
       "      <th>Komentar</th>\n",
       "      <th>Rating</th>\n",
       "      <th>Sentimen</th>\n",
       "    </tr>\n",
       "  </thead>\n",
       "  <tbody>\n",
       "    <tr>\n",
       "      <th>0</th>\n",
       "      <td>2023</td>\n",
       "      <td>6</td>\n",
       "      <td>tolong permainan ringan kan karena kasihan kam...</td>\n",
       "      <td>1</td>\n",
       "      <td>Negatif</td>\n",
       "    </tr>\n",
       "    <tr>\n",
       "      <th>1</th>\n",
       "      <td>2023</td>\n",
       "      <td>6</td>\n",
       "      <td>baca info permainan saja terus padahal sinyal ...</td>\n",
       "      <td>2</td>\n",
       "      <td>Negatif</td>\n",
       "    </tr>\n",
       "    <tr>\n",
       "      <th>2</th>\n",
       "      <td>2023</td>\n",
       "      <td>6</td>\n",
       "      <td>sudah update sinyal kenapa tidak stabil sih to...</td>\n",
       "      <td>2</td>\n",
       "      <td>Negatif</td>\n",
       "    </tr>\n",
       "    <tr>\n",
       "      <th>3</th>\n",
       "      <td>2023</td>\n",
       "      <td>6</td>\n",
       "      <td>update terus semua bug tidak urus jaringan saa...</td>\n",
       "      <td>5</td>\n",
       "      <td>Positif</td>\n",
       "    </tr>\n",
       "    <tr>\n",
       "      <th>4</th>\n",
       "      <td>2023</td>\n",
       "      <td>6</td>\n",
       "      <td>tidak bisa berguna updet terus kita kalau main...</td>\n",
       "      <td>1</td>\n",
       "      <td>Negatif</td>\n",
       "    </tr>\n",
       "    <tr>\n",
       "      <th>...</th>\n",
       "      <td>...</td>\n",
       "      <td>...</td>\n",
       "      <td>...</td>\n",
       "      <td>...</td>\n",
       "      <td>...</td>\n",
       "    </tr>\n",
       "    <tr>\n",
       "      <th>4995</th>\n",
       "      <td>2023</td>\n",
       "      <td>1</td>\n",
       "      <td>tolong baik tentang bug luar zona  hanya bisa ...</td>\n",
       "      <td>1</td>\n",
       "      <td>Negatif</td>\n",
       "    </tr>\n",
       "    <tr>\n",
       "      <th>4996</th>\n",
       "      <td>2023</td>\n",
       "      <td>1</td>\n",
       "      <td>untuk pihak garena free fire indonesiatolong b...</td>\n",
       "      <td>5</td>\n",
       "      <td>Positif</td>\n",
       "    </tr>\n",
       "    <tr>\n",
       "      <th>4997</th>\n",
       "      <td>2023</td>\n",
       "      <td>1</td>\n",
       "      <td>jangan terlalu ada banyak alasan masalah pada ...</td>\n",
       "      <td>5</td>\n",
       "      <td>Positif</td>\n",
       "    </tr>\n",
       "    <tr>\n",
       "      <th>4998</th>\n",
       "      <td>2023</td>\n",
       "      <td>1</td>\n",
       "      <td>saya mau kasih tahu buat garena free fire upda...</td>\n",
       "      <td>4</td>\n",
       "      <td>Positif</td>\n",
       "    </tr>\n",
       "    <tr>\n",
       "      <th>4999</th>\n",
       "      <td>2023</td>\n",
       "      <td>1</td>\n",
       "      <td>akhir akhir saya sering rasa masalah macthing ...</td>\n",
       "      <td>5</td>\n",
       "      <td>Positif</td>\n",
       "    </tr>\n",
       "  </tbody>\n",
       "</table>\n",
       "<p>5000 rows × 5 columns</p>\n",
       "</div>"
      ],
      "text/plain": [
       "      tahun  bulan                                           Komentar  Rating  \\\n",
       "0      2023      6  tolong permainan ringan kan karena kasihan kam...       1   \n",
       "1      2023      6  baca info permainan saja terus padahal sinyal ...       2   \n",
       "2      2023      6  sudah update sinyal kenapa tidak stabil sih to...       2   \n",
       "3      2023      6  update terus semua bug tidak urus jaringan saa...       5   \n",
       "4      2023      6  tidak bisa berguna updet terus kita kalau main...       1   \n",
       "...     ...    ...                                                ...     ...   \n",
       "4995   2023      1  tolong baik tentang bug luar zona  hanya bisa ...       1   \n",
       "4996   2023      1  untuk pihak garena free fire indonesiatolong b...       5   \n",
       "4997   2023      1  jangan terlalu ada banyak alasan masalah pada ...       5   \n",
       "4998   2023      1  saya mau kasih tahu buat garena free fire upda...       4   \n",
       "4999   2023      1  akhir akhir saya sering rasa masalah macthing ...       5   \n",
       "\n",
       "     Sentimen  \n",
       "0     Negatif  \n",
       "1     Negatif  \n",
       "2     Negatif  \n",
       "3     Positif  \n",
       "4     Negatif  \n",
       "...       ...  \n",
       "4995  Negatif  \n",
       "4996  Positif  \n",
       "4997  Positif  \n",
       "4998  Positif  \n",
       "4999  Positif  \n",
       "\n",
       "[5000 rows x 5 columns]"
      ]
     },
     "execution_count": 14,
     "metadata": {},
     "output_type": "execute_result"
    }
   ],
   "source": [
    "# Menentukan ambang batas untuk mengkategorikan sentimen\n",
    "threshold_positif = 3\n",
    "threshold_negatif = 2\n",
    "\n",
    "# Menerapkan analisis sentimen berdasarkan skor\n",
    "df_FF['Sentimen'] = df_FF['Rating'].apply(lambda x: 'Positif' if x >= threshold_positif else 'Negatif')\n",
    "\n",
    "# Menyimpan hasil analisis sentimen ke dalam data frame\n",
    "df_FF = df_FF[['tahun','bulan', 'Komentar','Rating', 'Sentimen']]\n",
    "\n",
    "df_FF"
   ]
  },
  {
   "cell_type": "code",
   "execution_count": 20,
   "metadata": {},
   "outputs": [],
   "source": [
    "from imblearn.over_sampling import SMOTE\n",
    "from sklearn.feature_extraction.text import TfidfVectorizer\n",
    "from sklearn.naive_bayes import MultinomialNB\n",
    "from sklearn.metrics import accuracy_score, f1_score, confusion_matrix\n",
    "from sklearn.model_selection import StratifiedKFold\n",
    "from sklearn.model_selection import cross_val_score\n"
   ]
  },
  {
   "attachments": {},
   "cell_type": "markdown",
   "metadata": {},
   "source": [
    "## Random Forres Classifier"
   ]
  },
  {
   "cell_type": "code",
   "execution_count": 21,
   "metadata": {},
   "outputs": [],
   "source": [
    "# Load data\n",
    "X = df_FF[\"Komentar\"]\n",
    "y = df_FF[\"Sentimen\"]\n",
    "\n",
    "# Membuat objek KFold dengan k=5\n",
    "kfold = StratifiedKFold(n_splits=5, shuffle=True, random_state=42)"
   ]
  },
  {
   "cell_type": "code",
   "execution_count": 22,
   "metadata": {},
   "outputs": [
    {
     "name": "stdout",
     "output_type": "stream",
     "text": [
      "[('Negatif', 3074), ('Positif', 3074)]\n"
     ]
    }
   ],
   "source": [
    "# Membuat objek vectorizer dan mengubah data latih ke dalam representasi vektor\n",
    "vectorizer = TfidfVectorizer(max_features=1000, binary=True)\n",
    "X_vect = vectorizer.fit_transform(X)\n",
    "\n",
    "# Melakukan oversampling menggunakan SMOTE\n",
    "sm = SMOTE()\n",
    "X_resampled, y_resampled = sm.fit_resample(X_vect, y)\n",
    "\n",
    "unique, counts = np.unique(y_resampled, return_counts=True)\n",
    "print(list(zip(unique, counts)))"
   ]
  },
  {
   "cell_type": "code",
   "execution_count": 23,
   "metadata": {},
   "outputs": [
    {
     "name": "stdout",
     "output_type": "stream",
     "text": [
      "Fold 1:\n",
      "Train Set:\n",
      "Jumlah sentimen negatif: 2459\n",
      "Jumlah sentimen positif: 1541\n",
      "\n",
      "Test Set:\n",
      "Jumlah sentimen negatif: 615\n",
      "Jumlah sentimen positif: 385\n",
      "\n",
      "Fold 2:\n",
      "Train Set:\n",
      "Jumlah sentimen negatif: 2459\n",
      "Jumlah sentimen positif: 1541\n",
      "\n",
      "Test Set:\n",
      "Jumlah sentimen negatif: 615\n",
      "Jumlah sentimen positif: 385\n",
      "\n",
      "Fold 3:\n",
      "Train Set:\n",
      "Jumlah sentimen negatif: 2459\n",
      "Jumlah sentimen positif: 1541\n",
      "\n",
      "Test Set:\n",
      "Jumlah sentimen negatif: 615\n",
      "Jumlah sentimen positif: 385\n",
      "\n",
      "Fold 4:\n",
      "Train Set:\n",
      "Jumlah sentimen negatif: 2459\n",
      "Jumlah sentimen positif: 1541\n",
      "\n",
      "Test Set:\n",
      "Jumlah sentimen negatif: 615\n",
      "Jumlah sentimen positif: 385\n",
      "\n",
      "Fold 5:\n",
      "Train Set:\n",
      "Jumlah sentimen negatif: 2460\n",
      "Jumlah sentimen positif: 1540\n",
      "\n",
      "Test Set:\n",
      "Jumlah sentimen negatif: 614\n",
      "Jumlah sentimen positif: 386\n",
      "\n"
     ]
    }
   ],
   "source": [
    "# Melakukan Stratified K-Fold Cross Validation pada data\n",
    "for fold, (train_index, test_index) in enumerate(kfold.split(X, y)):\n",
    "    print(f\"Fold {fold + 1}:\")\n",
    "    \n",
    "    # Subset data pelatihan dan data pengujian\n",
    "    X_train, X_test = X[train_index], X[test_index]\n",
    "    y_train, y_test = y[train_index], y[test_index]\n",
    "    \n",
    "    # Menghitung jumlah sentimen negatif dan positif pada subset pelatihan\n",
    "    neg_count_train = np.sum(y_train == 'Negatif')\n",
    "    pos_count_train = np.sum(y_train == 'Positif')\n",
    "    \n",
    "    # Menghitung jumlah sentimen negatif dan positif pada subset pengujian\n",
    "    neg_count_test = np.sum(y_test == 'Negatif')\n",
    "    pos_count_test = np.sum(y_test == 'Positif')\n",
    "    \n",
    "    print(\"Train Set:\")\n",
    "    print(\"Jumlah sentimen negatif:\", neg_count_train)\n",
    "    print(\"Jumlah sentimen positif:\", pos_count_train)\n",
    "    print(\"\")\n",
    "    \n",
    "    print(\"Test Set:\")\n",
    "    print(\"Jumlah sentimen negatif:\", neg_count_test)\n",
    "    print(\"Jumlah sentimen positif:\", pos_count_test)\n",
    "    print(\"\")\n"
   ]
  },
  {
   "cell_type": "code",
   "execution_count": 24,
   "metadata": {},
   "outputs": [
    {
     "name": "stdout",
     "output_type": "stream",
     "text": [
      "Fold 1 Accuracy: 80.48780487804879 %\n",
      "Fold 2 Accuracy: 77.88617886178861 %\n",
      "Fold 3 Accuracy: 79.91869918699187 %\n",
      "Fold 4 Accuracy: 78.68185516680228 %\n",
      "Fold 5 Accuracy: 78.51912123677786 %\n"
     ]
    }
   ],
   "source": [
    "# Membuat model RandomForestClassifier\n",
    "model = RandomForestClassifier()\n",
    "\n",
    "# Melakukan cross validation\n",
    "scores = cross_val_score(model, X_resampled, y_resampled, cv=kfold)\n",
    "\n",
    "# Menampilkan hasil kinerja model pada setiap fold\n",
    "for fold, score in enumerate(scores):\n",
    "    print(\"Fold\", fold+1, \"Accuracy:\", score*100,\"%\")\n"
   ]
  },
  {
   "cell_type": "code",
   "execution_count": 25,
   "metadata": {},
   "outputs": [
    {
     "name": "stdout",
     "output_type": "stream",
     "text": [
      "Accuracy: 100.00%\n",
      "F1 Score: 100.00\n",
      "\n",
      "Confusion Matrix:\n",
      " [[614   0]\n",
      " [  0 386]]\n"
     ]
    }
   ],
   "source": [
    "# Melatih model dengan data latih yang telah di-resampling\n",
    "model.fit(X_resampled, y_resampled)\n",
    "\n",
    "# Menghitung akurasi dan prediksi pada data uji\n",
    "X_test_vect = vectorizer.transform(X_test)\n",
    "y_pred = model.predict(X_test_vect)\n",
    "\n",
    "# Menampilkan hasil evaluasi model\n",
    "print(\"Accuracy: {:.2f}%\".format(accuracy_score(y_test, y_pred) * 100))\n",
    "print(\"F1 Score: {:.2f}\".format(f1_score(y_test, y_pred, average='weighted') * 100))\n",
    "print(\"\\nConfusion Matrix:\\n\", confusion_matrix(y_test, y_pred))"
   ]
  },
  {
   "attachments": {},
   "cell_type": "markdown",
   "metadata": {},
   "source": [
    "## Model Naive Bayes"
   ]
  },
  {
   "cell_type": "code",
   "execution_count": 26,
   "metadata": {},
   "outputs": [
    {
     "name": "stdout",
     "output_type": "stream",
     "text": [
      "[('Negatif', 2460), ('Positif', 2460)]\n"
     ]
    }
   ],
   "source": [
    "vect = TfidfVectorizer(max_features=1000, binary=True)\n",
    "X_train_vect = vect.fit_transform(X_train)\n",
    "\n",
    "sm = SMOTE()\n",
    "X_train_res, y_train_res = sm.fit_resample(X_train_vect, y_train)\n",
    "\n",
    "unique, counts = np.unique(y_train_res, return_counts=True)\n",
    "print(list(zip(unique, counts)))"
   ]
  },
  {
   "cell_type": "code",
   "execution_count": 27,
   "metadata": {},
   "outputs": [
    {
     "data": {
      "text/plain": [
       "0.8030487804878049"
      ]
     },
     "execution_count": 27,
     "metadata": {},
     "output_type": "execute_result"
    }
   ],
   "source": [
    "#Melihat kinerja model\n",
    "nb = MultinomialNB()\n",
    "nb.fit(X_train_res, y_train_res)\n",
    "nb.score(X_train_res, y_train_res)\n"
   ]
  },
  {
   "cell_type": "code",
   "execution_count": 28,
   "metadata": {},
   "outputs": [
    {
     "name": "stdout",
     "output_type": "stream",
     "text": [
      "Accuracy: 73.60%\n",
      "F1 Score: 73.80\n",
      "\n",
      "COnfusion Matrix:\n",
      " [[463 151]\n",
      " [113 273]]\n"
     ]
    }
   ],
   "source": [
    "X_test_vect = vect.transform(X_test)\n",
    "y_pred = nb.predict(X_test_vect)\n",
    "\n",
    "print(\"Accuracy: {:.2f}%\".format(accuracy_score(y_test, y_pred) * 100))\n",
    "print(\"F1 Score: {:.2f}\".format(f1_score(y_test, y_pred, average='weighted') * 100))\n",
    "print(\"\\nCOnfusion Matrix:\\n\", confusion_matrix(y_test, y_pred))"
   ]
  },
  {
   "attachments": {},
   "cell_type": "markdown",
   "metadata": {},
   "source": [
    "## Dataset PUBG"
   ]
  },
  {
   "cell_type": "code",
   "execution_count": 29,
   "metadata": {},
   "outputs": [
    {
     "data": {
      "text/html": [
       "<div>\n",
       "<style scoped>\n",
       "    .dataframe tbody tr th:only-of-type {\n",
       "        vertical-align: middle;\n",
       "    }\n",
       "\n",
       "    .dataframe tbody tr th {\n",
       "        vertical-align: top;\n",
       "    }\n",
       "\n",
       "    .dataframe thead th {\n",
       "        text-align: right;\n",
       "    }\n",
       "</style>\n",
       "<table border=\"1\" class=\"dataframe\">\n",
       "  <thead>\n",
       "    <tr style=\"text-align: right;\">\n",
       "      <th></th>\n",
       "      <th>tahun</th>\n",
       "      <th>bulan</th>\n",
       "      <th>Komentar</th>\n",
       "      <th>Rating</th>\n",
       "      <th>Sentimen</th>\n",
       "    </tr>\n",
       "  </thead>\n",
       "  <tbody>\n",
       "    <tr>\n",
       "      <th>0</th>\n",
       "      <td>2023</td>\n",
       "      <td>6</td>\n",
       "      <td>saya sering saat loading in permainan kembali ...</td>\n",
       "      <td>2</td>\n",
       "      <td>Negatif</td>\n",
       "    </tr>\n",
       "    <tr>\n",
       "      <th>1</th>\n",
       "      <td>2023</td>\n",
       "      <td>6</td>\n",
       "      <td>bagus lah lama ini tapi peta livik masih harus...</td>\n",
       "      <td>4</td>\n",
       "      <td>Positif</td>\n",
       "    </tr>\n",
       "    <tr>\n",
       "      <th>2</th>\n",
       "      <td>2023</td>\n",
       "      <td>6</td>\n",
       "      <td>mohon perhati karena saya bisa login lewat ema...</td>\n",
       "      <td>5</td>\n",
       "      <td>Positif</td>\n",
       "    </tr>\n",
       "    <tr>\n",
       "      <th>3</th>\n",
       "      <td>2023</td>\n",
       "      <td>6</td>\n",
       "      <td>gamenya terlalu lama loadingnya buat tidak suk...</td>\n",
       "      <td>1</td>\n",
       "      <td>Negatif</td>\n",
       "    </tr>\n",
       "    <tr>\n",
       "      <th>4</th>\n",
       "      <td>2023</td>\n",
       "      <td>6</td>\n",
       "      <td>kirain sudah kasih ulasan permainan nya lebih ...</td>\n",
       "      <td>2</td>\n",
       "      <td>Negatif</td>\n",
       "    </tr>\n",
       "    <tr>\n",
       "      <th>...</th>\n",
       "      <td>...</td>\n",
       "      <td>...</td>\n",
       "      <td>...</td>\n",
       "      <td>...</td>\n",
       "      <td>...</td>\n",
       "    </tr>\n",
       "    <tr>\n",
       "      <th>4995</th>\n",
       "      <td>2018</td>\n",
       "      <td>9</td>\n",
       "      <td>semakin lama permainan semakin kualitas hampir...</td>\n",
       "      <td>2</td>\n",
       "      <td>Negatif</td>\n",
       "    </tr>\n",
       "    <tr>\n",
       "      <th>4996</th>\n",
       "      <td>2018</td>\n",
       "      <td>9</td>\n",
       "      <td>banyak lag nya sudah update grafis sudah palin...</td>\n",
       "      <td>1</td>\n",
       "      <td>Negatif</td>\n",
       "    </tr>\n",
       "    <tr>\n",
       "      <th>4997</th>\n",
       "      <td>2018</td>\n",
       "      <td>9</td>\n",
       "      <td>kenapa sekarang suka dan sering keluar sendiri...</td>\n",
       "      <td>5</td>\n",
       "      <td>Positif</td>\n",
       "    </tr>\n",
       "    <tr>\n",
       "      <th>4998</th>\n",
       "      <td>2018</td>\n",
       "      <td>9</td>\n",
       "      <td>pertama belum upgrade bagus sekarang sudah upg...</td>\n",
       "      <td>1</td>\n",
       "      <td>Negatif</td>\n",
       "    </tr>\n",
       "    <tr>\n",
       "      <th>4999</th>\n",
       "      <td>2018</td>\n",
       "      <td>9</td>\n",
       "      <td>payah update baru semakin sering ngelag patah ...</td>\n",
       "      <td>1</td>\n",
       "      <td>Negatif</td>\n",
       "    </tr>\n",
       "  </tbody>\n",
       "</table>\n",
       "<p>5000 rows × 5 columns</p>\n",
       "</div>"
      ],
      "text/plain": [
       "      tahun  bulan                                           Komentar  Rating  \\\n",
       "0      2023      6  saya sering saat loading in permainan kembali ...       2   \n",
       "1      2023      6  bagus lah lama ini tapi peta livik masih harus...       4   \n",
       "2      2023      6  mohon perhati karena saya bisa login lewat ema...       5   \n",
       "3      2023      6  gamenya terlalu lama loadingnya buat tidak suk...       1   \n",
       "4      2023      6  kirain sudah kasih ulasan permainan nya lebih ...       2   \n",
       "...     ...    ...                                                ...     ...   \n",
       "4995   2018      9  semakin lama permainan semakin kualitas hampir...       2   \n",
       "4996   2018      9  banyak lag nya sudah update grafis sudah palin...       1   \n",
       "4997   2018      9  kenapa sekarang suka dan sering keluar sendiri...       5   \n",
       "4998   2018      9  pertama belum upgrade bagus sekarang sudah upg...       1   \n",
       "4999   2018      9  payah update baru semakin sering ngelag patah ...       1   \n",
       "\n",
       "     Sentimen  \n",
       "0     Negatif  \n",
       "1     Positif  \n",
       "2     Positif  \n",
       "3     Negatif  \n",
       "4     Negatif  \n",
       "...       ...  \n",
       "4995  Negatif  \n",
       "4996  Negatif  \n",
       "4997  Positif  \n",
       "4998  Negatif  \n",
       "4999  Negatif  \n",
       "\n",
       "[5000 rows x 5 columns]"
      ]
     },
     "execution_count": 29,
     "metadata": {},
     "output_type": "execute_result"
    }
   ],
   "source": [
    "# Menentukan ambang batas untuk mengkategorikan sentimen\n",
    "threshold_positif = 4\n",
    "threshold_negatif = 3\n",
    "\n",
    "# Menerapkan analisis sentimen berdasarkan skor\n",
    "df_PUBG['Sentimen'] = df_PUBG['Rating'].apply(lambda x: 'Positif' if x >= threshold_positif else 'Negatif')\n",
    "\n",
    "# Menyimpan hasil analisis sentimen ke dalam data frame\n",
    "df_PUBG = df_PUBG[['tahun','bulan', 'Komentar','Rating', 'Sentimen']]\n",
    "\n",
    "df_PUBG"
   ]
  },
  {
   "attachments": {},
   "cell_type": "markdown",
   "metadata": {},
   "source": [
    "## Model SVM"
   ]
  },
  {
   "cell_type": "code",
   "execution_count": 31,
   "metadata": {},
   "outputs": [],
   "source": [
    "from sklearn.model_selection import KFold\n",
    "\n",
    "X = df_PUBG[\"Komentar\"]  \n",
    "y = df_PUBG[\"Sentimen\"]  \n",
    "\n",
    "# Membuat objek KFold dengan k=5\n",
    "kfold = KFold(n_splits=10, shuffle=True, random_state=42)"
   ]
  },
  {
   "cell_type": "code",
   "execution_count": 33,
   "metadata": {},
   "outputs": [
    {
     "name": "stdout",
     "output_type": "stream",
     "text": [
      "Fold 1 Accuracy: 79.0650406504065 %\n",
      "Fold 2 Accuracy: 76.82926829268293 %\n",
      "Fold 3 Accuracy: 81.30081300813008 %\n",
      "Fold 4 Accuracy: 77.03252032520325 %\n",
      "Fold 5 Accuracy: 76.6260162601626 %\n",
      "Fold 6 Accuracy: 75.20325203252033 %\n",
      "Fold 7 Accuracy: 76.01626016260163 %\n",
      "Fold 8 Accuracy: 74.79674796747967 %\n",
      "Fold 9 Accuracy: 77.4390243902439 %\n",
      "Fold 10 Accuracy: 77.64227642276423 %\n"
     ]
    }
   ],
   "source": [
    "from sklearn.svm import SVC\n",
    "\n",
    "# Inisialisasi vectorizer dan mengubah data latih ke dalam representasi vektor\n",
    "vectorizer_PUBG = TfidfVectorizer(max_features=1000, binary=True)\n",
    "X_vect = vectorizer_PUBG.fit_transform(X_train)\n",
    "\n",
    "# Melakukan oversampling menggunakan SMOTE\n",
    "sm = SMOTE()\n",
    "X_train_res, y_train_res = sm.fit_resample(X_vect, y_train)\n",
    "\n",
    "# Membuat model SVM\n",
    "model_SVM = SVC(kernel='linear')\n",
    "\n",
    "# Melakukan cross validation\n",
    "scores = cross_val_score(model_SVM, X_train_res, y_train_res, cv=kfold)\n",
    "\n",
    "# Menampilkan hasil kinerja model pada setiap fold\n",
    "for fold, score in enumerate(scores):\n",
    "    print(\"Fold\", fold+1, \"Accuracy:\", score*100,\"%\")\n"
   ]
  },
  {
   "cell_type": "code",
   "execution_count": 34,
   "metadata": {},
   "outputs": [
    {
     "name": "stdout",
     "output_type": "stream",
     "text": [
      "Accuracy: 73.40%\n",
      "F1 Score: 73.48\n",
      "\n",
      "Confusion Matrix:\n",
      " [[474 140]\n",
      " [126 260]]\n"
     ]
    }
   ],
   "source": [
    "# Melatih model dengan data latih yang telah di-resampling\n",
    "model_SVM.fit(X_train_res, y_train_res)\n",
    "\n",
    "# Menghitung akurasi dan prediksi pada data uji\n",
    "X_test_vect = vectorizer_PUBG.transform(X_test)\n",
    "y_pred = model_SVM.predict(X_test_vect)\n",
    "\n",
    "# Menampilkan hasil evaluasi model\n",
    "print(\"Accuracy: {:.2f}%\".format(accuracy_score(y_test, y_pred) * 100))\n",
    "print(\"F1 Score: {:.2f}\".format(f1_score(y_test, y_pred, average='weighted') * 100))\n",
    "print(\"\\nConfusion Matrix:\\n\", confusion_matrix(y_test, y_pred))"
   ]
  }
 ],
 "metadata": {
  "kernelspec": {
   "display_name": "Python 3",
   "language": "python",
   "name": "python3"
  },
  "language_info": {
   "codemirror_mode": {
    "name": "ipython",
    "version": 3
   },
   "file_extension": ".py",
   "mimetype": "text/x-python",
   "name": "python",
   "nbconvert_exporter": "python",
   "pygments_lexer": "ipython3",
   "version": "3.11.1"
  },
  "orig_nbformat": 4
 },
 "nbformat": 4,
 "nbformat_minor": 2
}
